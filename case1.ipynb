{
 "cells": [
  {
   "cell_type": "markdown",
   "metadata": {},
   "source": [
    "# Case Study 1 : Data Science in Twitter Data"
   ]
  },
  {
   "cell_type": "markdown",
   "metadata": {},
   "source": [
    "**Required Readings:** \n",
    "* Chapter 1 and Chapter 9 of the book [Mining the Social Web](http://cdn.oreillystatic.com/oreilly/booksamplers/9781449367619_sampler.pdf) \n",
    "* The codes for [Chapter 1](http://bit.ly/1qCtMrr) and [Chapter 9](http://bit.ly/1u7eP33)\n",
    "* [TED Talks](https://www.ted.com/talks) for examples of 10 minutes talks.\n",
    "\n",
    "\n",
    "** NOTE **\n",
    "* Please don't forget to save the notebook frequently when working in Jupyter Notebook, otherwise the changes you made can be lost.\n",
    "\n",
    "*----------------------"
   ]
  },
  {
   "cell_type": "markdown",
   "metadata": {},
   "source": [
    "# Problem: pick a data science problem that you plan to solve using Twitter Data\n",
    "* The problem should be important and interesting, which has a potential impact in some area.\n",
    "* The problem should be solvable using twitter data and data science solutions.\n",
    "\n",
    "Please briefly describe in the following cell: what problem are you trying to solve? why this problem is important and interesting?"
   ]
  },
  {
   "cell_type": "markdown",
   "metadata": {
    "collapsed": true
   },
   "source": [
    "Superbowl commercials are usually a hot topic during the festival. Not only its price rate at 5 million dollars per 30 seconds, but also the impacting ideas catch eyes and generate rounds of conversations over the social medias.\n",
    "\n",
    "Company would love to see people talking about their commercials at superbowl event, and expecting the finacial investment will bring treasure back. This study focuses on finding out the most popular commercials during superbowl events, via social media data collected on Twitter.\n",
    "\n",
    "\n",
    "\n",
    "\n",
    "\n",
    "\n",
    "\n",
    "\n",
    "\n",
    "\n",
    "\n",
    "\n",
    "\n",
    "\n",
    "\n",
    "\n",
    "\n",
    "\n",
    "\n",
    "\n",
    "\n"
   ]
  },
  {
   "cell_type": "markdown",
   "metadata": {},
   "source": [
    "## Data Collection: Download Twitter Data using API"
   ]
  },
  {
   "cell_type": "markdown",
   "metadata": {},
   "source": [
    "* In order to solve the above problem, you need to collect some twitter data. You could select a topic that is relevant to your problem, and use Twitter API to download the relevant tweets. It is recommended that the number of tweets should be larger than 200, but smaller than 1 million.\n",
    "* Store the tweets you downloaded into a local file (txt file or json file) "
   ]
  },
  {
   "cell_type": "code",
   "execution_count": 20,
   "metadata": {
    "collapsed": true
   },
   "outputs": [],
   "source": [
    "import twitter\n",
    "import json\n",
    "#---------------------------------------------\n",
    "# Define a Function to Login Twitter API\n",
    "def oauth_login():\n",
    "    # Go to http://twitter.com/apps/new to create an app and get values\n",
    "    # for these credentials that you'll need to provide in place of these\n",
    "    # empty string values that are defined as placeholders.\n",
    "    # See https://dev.twitter.com/docs/auth/oauth for more information \n",
    "    # on Twitter's OAuth implementation.\n",
    "    \n",
    "    CONSUMER_KEY = 'M8hkBNLeLsLrMJKOn7oOHD0aX'\n",
    "    CONSUMER_SECRET ='EFGmOQVJgpk2XtDOZKImVuj6RIQnZBPOpHgPCq4nGc4vZeWlkl'\n",
    "    OAUTH_TOKEN = '3252731651-zzGSOcP5K7PTs0GsTsvhu4VMfpHIW1eXT4BEiEu'\n",
    "    OAUTH_TOKEN_SECRET = 'gs0cVor0pSuWlmnAXcsr8pTYcyOtqOTstKk1Q4ClsDQT5'\n",
    "    \n",
    "    auth = twitter.oauth.OAuth(OAUTH_TOKEN, OAUTH_TOKEN_SECRET,\n",
    "                               CONSUMER_KEY, CONSUMER_SECRET)\n",
    "    \n",
    "    twitter_api = twitter.Twitter(auth=auth)\n",
    "    #print(twitter_api.statuses.home_timeline())\n",
    "    return twitter_api\n",
    "\n",
    "#----------------------------------------------\n",
    "# Your code starts here\n",
    "#   Please add comments or text cells in between to explain the general idea of each block of the code.\n",
    "#   Please feel free to add more cells below this cell if necessary"
   ]
  },
  {
   "cell_type": "code",
   "execution_count": 21,
   "metadata": {
    "collapsed": true
   },
   "outputs": [],
   "source": [
    "# Generate a twitter_api instance\n",
    "twitter_api = oauth_login()"
   ]
  },
  {
   "cell_type": "code",
   "execution_count": 160,
   "metadata": {
    "collapsed": true
   },
   "outputs": [],
   "source": [
    "import time\n",
    "from urllib2 import URLError\n",
    "from httplib import BadStatusLine\n",
    "#WORLD_WOE_ID = 1\n",
    "#US_WOE_ID = 23424977\n",
    "\n",
    "\n",
    "# Provide a uniform interface function for using twitter_api\n",
    "def make_twitter_request(twitter_api_func, max_errors=10, *args, **kw): \n",
    "    \n",
    "    # A nested helper function that handles common HTTPErrors. Return an updated\n",
    "    # value for wait_period if the problem is a 500 level error. Block until the\n",
    "    # rate limit is reset if it's a rate limiting issue (429 error). Returns None\n",
    "    # for 401 and 404 errors, which requires special handling by the caller.\n",
    "    def handle_twitter_http_error(e, wait_period=2, sleep_when_rate_limited=True):\n",
    "    \n",
    "        if wait_period > 3600: # Seconds\n",
    "            print >> sys.stderr, 'Too many retries. Quitting.'\n",
    "            raise e\n",
    "    \n",
    "        # See https://dev.twitter.com/docs/error-codes-responses for common codes\n",
    "    \n",
    "        if e.e.code == 401:\n",
    "            print >> sys.stderr, 'Encountered 401 Error (Not Authorized)'\n",
    "            return None\n",
    "        elif e.e.code == 404:\n",
    "            print >> sys.stderr, 'Encountered 404 Error (Not Found)'\n",
    "            return None\n",
    "        elif e.e.code == 429: \n",
    "            print >> sys.stderr, 'Encountered 429 Error (Rate Limit Exceeded)'\n",
    "            if sleep_when_rate_limited:\n",
    "                print >> sys.stderr, \"Retrying in 15 minutes...ZzZ...\"\n",
    "                sys.stderr.flush()\n",
    "                time.sleep(60*15 + 5)\n",
    "                print >> sys.stderr, '...ZzZ...Awake now and trying again.'\n",
    "                return 2\n",
    "            else:\n",
    "                raise e # Caller must handle the rate limiting issue\n",
    "        elif e.e.code in (500, 502, 503, 504):\n",
    "            print >> sys.stderr, 'Encountered %i Error. Retrying in %i seconds' % \\\n",
    "                (e.e.code, wait_period)\n",
    "            time.sleep(wait_period)\n",
    "            wait_period *= 1.5\n",
    "            return wait_period\n",
    "        else:\n",
    "            raise e\n",
    "\n",
    "    # End of nested helper function\n",
    "    \n",
    "    wait_period = 2 \n",
    "    error_count = 0 \n",
    "\n",
    "    while True:\n",
    "        try:\n",
    "            return twitter_api_func(*args, **kw)\n",
    "        except twitter.api.TwitterHTTPError, e:\n",
    "            error_count = 0 \n",
    "            wait_period = handle_twitter_http_error(e, wait_period)\n",
    "            if wait_period is None:\n",
    "                return\n",
    "        except URLError, e:\n",
    "            error_count += 1\n",
    "            time.sleep(wait_period)\n",
    "            wait_period *= 1.5\n",
    "            print >> sys.stderr, \"URLError encountered. Continuing.\"\n",
    "            if error_count > max_errors:\n",
    "                print >> sys.stderr, \"Too many consecutive errors...bailing out.\"\n",
    "                raise\n",
    "        except BadStatusLine, e:\n",
    "            error_count += 1\n",
    "            time.sleep(wait_period)\n",
    "            wait_period *= 1.5\n",
    "            print >> sys.stderr, \"BadStatusLine encountered. Continuing.\"\n",
    "            if error_count > max_errors:\n",
    "                print >> sys.stderr, \"Too many consecutive errors...bailing out.\"\n",
    "                raise"
   ]
  },
  {
   "cell_type": "code",
   "execution_count": 283,
   "metadata": {
    "collapsed": true
   },
   "outputs": [],
   "source": [
    "from collections import Counter\n",
    "\n",
    "\n",
    "# Parse search result into several atributes\n",
    "# Return: a dictionary with catogories 'words', 'retweet_count', 'favorite_count', 'screen_names', and 'hashtag'\n",
    "def parseResult(statuses):\n",
    "    status_texts = [ status['text'] for status in statuses ]\n",
    "\n",
    "    words = [ w for t in status_texts\n",
    "                    for w in t.split() ]\n",
    "    \n",
    "    retweet_count = [ status['retweet_count'] for status in statuses]\n",
    "    \n",
    "    favorite_count = [ status['favorite_count'] for status in statuses]\n",
    "    \n",
    "    followers_count = [ status['user']['followers_count'] for status in statuses]\n",
    "    \n",
    "    friends_count = [ status['user']['friends_count'] for status in statuses]\n",
    "    \n",
    "    entities = [status['entities'] for status in statuses]\n",
    "    \n",
    "    screen_names = [ user_mention['screen_name'] for status in statuses\n",
    "                                                       for user_mention in status['entities']['user_mentions']]\n",
    "\n",
    "    hashtags = [ hashtag['text'] for status in statuses\n",
    "                                    for hashtag in status['entities']['hashtags'] ]  \n",
    "    \n",
    "    result = {}\n",
    "    result['status_texts'] = status_texts\n",
    "    result['words'] = words\n",
    "    result['retweet_count'] = retweet_count\n",
    "    result['favorite_count'] = favorite_count\n",
    "    result['screen_names'] = screen_names\n",
    "    result['hashtag'] = hashtags\n",
    "    result['followers_count'] = followers_count\n",
    "    result['friends_count'] = friends_count\n",
    "    return result"
   ]
  },
  {
   "cell_type": "code",
   "execution_count": 315,
   "metadata": {
    "collapsed": true
   },
   "outputs": [],
   "source": [
    "# Word count function for selected catogorical list\n",
    "# Return: top n-th (10 by default) largest from the list\n",
    "def countTopFrequent(words, top = 10):\n",
    "    for item in [words]:\n",
    "        c = Counter(item)\n",
    "    return c.most_common()[:top] # top 10 by default"
   ]
  },
  {
   "cell_type": "code",
   "execution_count": 195,
   "metadata": {
    "collapsed": true
   },
   "outputs": [],
   "source": [
    "from prettytable import PrettyTable\n",
    "\n",
    "\n",
    "# Provide a pretty print function\n",
    "# Input list of tuples on label and count frequency record\n",
    "def prettyPrint(record, name_tag1, name_tag2):\n",
    "    pt = PrettyTable(field_names=[name_tag1, name_tag2])\n",
    "    [ pt.add_row(kv) for kv in record ]\n",
    "    pt.align[name_tag1], pt.align[name_tag2] = 'l', 'r' # Set column alignment\n",
    "    print pt"
   ]
  },
  {
   "cell_type": "code",
   "execution_count": 298,
   "metadata": {
    "collapsed": true
   },
   "outputs": [],
   "source": [
    "import io, json\n",
    "\n",
    "\n",
    "# Providing saving and loading functions from json file\n",
    "def save_json(filename, data):\n",
    "    with io.open('/Users/easonjackson/Documents/DS501/{0}.json'.format(filename), \n",
    "                 'a', encoding='utf-8') as f:\n",
    "        f.writelines(unicode(json.dumps(data, ensure_ascii=False)) + '\\n')\n",
    "\n",
    "def load_json(filename):\n",
    "    with io.open('/Users/easonjackson/Documents/DS501/{0}.json'.format(filename), \n",
    "                 encoding='utf-8') as f:\n",
    "        return f.read()"
   ]
  },
  {
   "cell_type": "code",
   "execution_count": 293,
   "metadata": {
    "collapsed": true
   },
   "outputs": [],
   "source": [
    "import sys\n",
    "from functools import partial\n",
    "from sys import maxint\n",
    "\n",
    "def get_friends_followers_ids(twitter_api, screen_name=None, user_id=None,\n",
    "                              friends_limit=maxint, followers_limit=maxint):\n",
    "    \n",
    "    # Must have either screen_name or user_id (logical xor)\n",
    "    assert (screen_name != None) != (user_id != None), \\\n",
    "    \"Must have screen_name or user_id, but not both\"\n",
    "    \n",
    "    \n",
    "    get_friends_ids = partial(make_twitter_request, twitter_api.friends.ids, \n",
    "                              count=500)\n",
    "    get_followers_ids = partial(make_twitter_request, twitter_api.followers.ids, \n",
    "                                count=500)\n",
    "\n",
    "    friends_ids, followers_ids = [], []\n",
    "    \n",
    "    for twitter_api_func, limit, ids, label in [\n",
    "                    [get_friends_ids, friends_limit, friends_ids, \"friends\"], \n",
    "                    [get_followers_ids, followers_limit, followers_ids, \"followers\"]\n",
    "                ]:\n",
    "        \n",
    "        if limit == 0: continue\n",
    "        \n",
    "        cursor = -1\n",
    "        while cursor != 0:\n",
    "        \n",
    "            # Use make_twitter_request via the partially bound callable...\n",
    "            if screen_name: \n",
    "                response = twitter_api_func(screen_name=screen_name, cursor=cursor)\n",
    "            else: # user_id\n",
    "                response = twitter_api_func(user_id=user_id, cursor=cursor)\n",
    "\n",
    "            if response is not None:\n",
    "                ids += response['ids']\n",
    "                cursor = response['next_cursor']\n",
    "        \n",
    "            #print >> sys.stderr, 'Fetched {0} total {1} ids for {2}'.format(len(ids), \n",
    "            #                                        label, (user_id or screen_name))\n",
    "        \n",
    "            # XXX: You may want to store data during each iteration to provide an \n",
    "            # an additional layer of protection from exceptional circumstances\n",
    "        \n",
    "            if len(ids) >= limit or response is None:\n",
    "                break\n",
    "\n",
    "    # Do something useful with the IDs, like store them to disk...\n",
    "    return friends_ids[:friends_limit], followers_ids[:followers_limit]"
   ]
  },
  {
   "cell_type": "code",
   "execution_count": 415,
   "metadata": {
    "collapsed": true
   },
   "outputs": [],
   "source": [
    "def get_user_profile(twitter_api, screen_names=None, user_ids=None):\n",
    "   \n",
    "    # Must have either screen_name or user_id (logical xor)\n",
    "    assert (screen_names != None) != (user_ids != None), \\\n",
    "    \"Must have screen_names or user_ids, but not both\"\n",
    "    \n",
    "    items_to_info = {}\n",
    "\n",
    "    items = screen_names or user_ids\n",
    "    \n",
    "    while len(items) > 0:\n",
    "\n",
    "        # Process 100 items at a time per the API specifications for /users/lookup.\n",
    "        # See https://dev.twitter.com/docs/api/1.1/get/users/lookup for details.\n",
    "        \n",
    "        items_str = ','.join([str(item) for item in items[:100]])\n",
    "        items = items[100:]\n",
    "\n",
    "        if screen_names:\n",
    "            response = make_twitter_request(twitter_api.users.lookup, \n",
    "                                            screen_name=items_str)\n",
    "        else: # user_ids\n",
    "            response = make_twitter_request(twitter_api.users.lookup, \n",
    "                                            user_id=items_str)\n",
    "    \n",
    "        for user_info in response:\n",
    "            if screen_names:\n",
    "                items_to_info[user_info['screen_name']] = user_info\n",
    "            else: # user_ids\n",
    "                items_to_info[user_info['id']] = user_info\n",
    "\n",
    "    return items_to_info"
   ]
  },
  {
   "cell_type": "markdown",
   "metadata": {},
   "source": [
    "### Report  statistics about the tweets you collected "
   ]
  },
  {
   "cell_type": "code",
   "execution_count": 338,
   "metadata": {},
   "outputs": [
    {
     "data": {
      "text/plain": [
       "2789"
      ]
     },
     "execution_count": 338,
     "metadata": {},
     "output_type": "execute_result"
    }
   ],
   "source": [
    "# The total number of tweets collected:  < 2789 >\n",
    "len(tweets_result)\n",
    "\n"
   ]
  },
  {
   "cell_type": "markdown",
   "metadata": {},
   "source": [
    "# Data Exploration: Exploring the Tweets and Tweet Entities\n",
    "\n",
    "**(1) Word Count:** \n",
    "* Load the tweets you collected in the local file (txt or json)\n",
    "* compute the frequencies of the words being used in these tweets. \n",
    "* Plot a table of the top 30 most-frequent words with their counts"
   ]
  },
  {
   "cell_type": "code",
   "execution_count": 332,
   "metadata": {},
   "outputs": [
    {
     "name": "stdout",
     "output_type": "stream",
     "text": [
      "+------------------+-------+\n",
      "| Words            | Count |\n",
      "+------------------+-------+\n",
      "| the              |  2070 |\n",
      "| RT               |  1920 |\n",
      "| commercial       |  1621 |\n",
      "| #SuperBowl       |  1336 |\n",
      "| a                |   911 |\n",
      "| during           |   711 |\n",
      "| for              |   563 |\n",
      "| is               |   504 |\n",
      "| to               |   497 |\n",
      "| in               |   464 |\n",
      "| @MonsterProducts |   417 |\n",
      "| with             |   341 |\n",
      "| you              |   336 |\n",
      "| scenes           |   308 |\n",
      "| Tide             |   300 |\n",
      "| new              |   291 |\n",
      "| behind           |   267 |\n",
      "| they             |   263 |\n",
      "| I                |   261 |\n",
      "| our              |   255 |\n",
      "| of               |   240 |\n",
      "| but              |   238 |\n",
      "| @VibeHubVR:      |   238 |\n",
      "| took             |   233 |\n",
      "| shoot.           |   233 |\n",
      "| Founder          |   233 |\n",
      "| #VIBEhub         |   233 |\n",
      "| Alessio          |   233 |\n",
      "| #vibec…          |   233 |\n",
      "| pictures         |   233 |\n",
      "+------------------+-------+\n"
     ]
    }
   ],
   "source": [
    "# Your code starts here\n",
    "#   Please add comments or text cells in between to explain the general idea of each block of the code.\n",
    "#   Please feel free to add more cells below this cell if necessary\n",
    "tweets_result = []\n",
    "with open('Tweets_collections.json', 'r') as curr_file:\n",
    "    line = curr_file.readline()\n",
    "    while line:\n",
    "        tw = json.loads(line)\n",
    "        tweets_result.append(tw)\n",
    "        line = curr_file.readline()\n",
    "    \n",
    "words_collections = []\n",
    "for tweet in tweets_result:\n",
    "    words_collections += list(tweet['text'].split(' '))\n",
    "top_words = countTopFrequent(words_collections, 30)\n",
    "prettyPrint(top_words, 'Words', 'Count')\n"
   ]
  },
  {
   "cell_type": "markdown",
   "metadata": {},
   "source": [
    "** (2) Find the most popular tweets in your collection of tweets**\n",
    "\n",
    "Please plot a table of the top 10 most-retweeted tweets in your collection, i.e., the tweets with the largest number of retweet counts.\n"
   ]
  },
  {
   "cell_type": "code",
   "execution_count": 439,
   "metadata": {},
   "outputs": [
    {
     "name": "stdout",
     "output_type": "stream",
     "text": [
      "+----------------------------------------------------------------------------------------------------------------------------------------------+-------+\n",
      "| Tweet                                                                                                                                        | Count |\n",
      "+----------------------------------------------------------------------------------------------------------------------------------------------+-------+\n",
      "| RT @slpng_giants: So @amazon can afford to run a 90 second commercial during the #Superbowl, but not pull ads off Breitbart, where they run… |   485 |\n",
      "| RT @MichelobULTRA: Did you hear? @prattprattpratt is Michelob ULTRA’s new spokesperson. Watch him prepare to make this year’s #SuperBowl co… |   456 |\n",
      "| RT @IGGYAZALEA: Shazam the #MonsterHeadphones #Superbowl commercial tonight to unlock behind the scenes footage! https://t.co/psWOEqQ3Vh     |   336 |\n",
      "| RT @NathanZed: RHETT AND LINK IN A SUPERBOWL COMMERCIAL BREH. Literally the only YouTubers I wanna see on my tv.                             |   315 |\n",
      "| RT @UniversalORL: #SuperBowl Commercial: Peyton Manning is… Vacation Quarterback #ReadyForUniversal #SBLII https://t.co/Jcs8LNU6n5           |   292 |\n",
      "| RT @VibeHubVR: We can't show to much, VIBEHub will be showing some brief behind the scenes footage of our placement in Monsters Super Bowl…  |   241 |\n",
      "| RT @MarkDice: She is a nutcase, but I thought Rosie O'Donnell was pretty funny in that #TurboTax #SuperBowl commercial. https://t.co/4rduFA… |   239 |\n",
      "| RT @billboard: Iggy Azalea returns in Monster Products' 2018 #SuperBowl commercial https://t.co/uKL1eyndH4 https://t.co/Z9NtKfFNO4           |   218 |\n",
      "| RT @RealSaavedra: Everyone I am watching the #SuperBowl with is talking about how they are cancelling their T-Mobile plans after that polit… |   209 |\n",
      "| RT @RapUp: Cardi B takes over for Alexa in Amazon's #SuperBowl commercial https://t.co/fgz42Z56V8 😂😂 https://t.co/bUIgQbp8iz               |   191 |\n",
      "| RT @jarion_powell: Waiting for a Tide Pod commercial like                                                                                    |   182 |\n",
      "| #SuperBowl #superbowlcommercials https://t.co/tC4og5qnDg                                                                                     |       |\n",
      "+----------------------------------------------------------------------------------------------------------------------------------------------+-------+\n"
     ]
    }
   ],
   "source": [
    "# Your code starts here\n",
    "#   Please add comments or text cells in between to explain the general idea of each block of the code.\n",
    "#   Please feel free to add more cells below this cell if necessary\n",
    "twitter_text = [tweet['text'] for tweet in tweets_result]\n",
    "retweet_count = [tweet['retweet_count'] for tweet in tweets_result]\n",
    "\n",
    "index = [i[0] for i in sorted(enumerate(retweet_count), key=lambda x:-x[1])]\n",
    "twitter_text = [twitter_text[i] for i in index]\n",
    "retweet_count = sorted(retweet_count, reverse = True)\n",
    "\n",
    "dup = []\n",
    "top_ten_tweets = []\n",
    "top_ten_count = []\n",
    "for i in range(len(index)):\n",
    "    if len(top_ten_tweets) > 10:\n",
    "        break;\n",
    "    if twitter_text[i] not in dup:\n",
    "        dup.append(twitter_text[i])\n",
    "        top_ten_tweets.append(twitter_text[i])\n",
    "        top_ten_count.append(retweet_count[i])\n",
    "#top_ten_tweets = [twitter_text[i] for i in index][:10]\n",
    "#top_ten_count = sorted(retweet_count, reverse = True)[:10]\n",
    "\n",
    "pt = PrettyTable(field_names=['Tweet', 'Count'])\n",
    "[ pt.add_row((kv1, kv2)) for (kv1, kv2) in zip(top_ten_tweets, top_ten_count) ]\n",
    "pt.align['Tweet'], pt.align['Count'] = 'l', 'r' # Set column alignment\n",
    "print pt\n"
   ]
  },
  {
   "cell_type": "markdown",
   "metadata": {},
   "source": [
    "**(3) Find the most popular Tweet Entities in your collection of tweets**\n",
    "\n",
    "Please plot the top 10 most-frequent hashtags and top 10 most-mentioned users in your collection of tweets."
   ]
  },
  {
   "cell_type": "code",
   "execution_count": 437,
   "metadata": {},
   "outputs": [
    {
     "name": "stdout",
     "output_type": "stream",
     "text": [
      "\n",
      "+-----------------------+-------+\n",
      "| Hashtag               | Count |\n",
      "+-----------------------+-------+\n",
      "| #SuperBowl            |  1336 |\n",
      "| #vibe                 |   233 |\n",
      "| #VIBEhub              |   233 |\n",
      "| #vibec…               |   233 |\n",
      "| #SBLII                |   213 |\n",
      "| #Superbowl,           |   168 |\n",
      "| #ReadyForUniversal    |   168 |\n",
      "| #superbowlcommercials |   149 |\n",
      "| #Superbowl            |    94 |\n",
      "| #superbowl            |    93 |\n",
      "+-----------------------+-------+\n",
      "\n",
      "+-------------------+-------+\n",
      "| Screen name       | Count |\n",
      "+-------------------+-------+\n",
      "| @MonsterProducts  |   417 |\n",
      "| @VibeHubVR:       |   238 |\n",
      "| @amazon           |   193 |\n",
      "| @slpng_giants:    |   168 |\n",
      "| @shadegossipfact: |   167 |\n",
      "| @jarion_powell:   |   134 |\n",
      "| @tide             |   119 |\n",
      "| @UniversalORL:    |   105 |\n",
      "| @YouTube          |    90 |\n",
      "| @UniStudios:      |    63 |\n",
      "+-------------------+-------+\n"
     ]
    }
   ],
   "source": [
    "# Your code starts here\n",
    "#   Please add comments or text cells in between to explain the general idea of each block of the code.\n",
    "#   Please feel free to add more cells below this cell if necessary\n",
    "\n",
    "# 10 most-frequent hashtags\n",
    "hashtags_collections = [word for word in words_collections if word.startswith(u'#')]\n",
    "# 10 most-frequent screen_names\n",
    "screen_names_collections = [word for word in words_collections if word.startswith(u'@')]\n",
    "\n",
    "top_ten_hashtags = countTopFrequent(hashtags_collections)[:10]\n",
    "top_ten_screen_names = countTopFrequent(screen_names_collections)[:10]\n",
    "\n",
    "print\n",
    "prettyPrint(top_ten_hashtags, 'Hashtag', 'Count')\n",
    "print\n",
    "prettyPrint(top_ten_screen_names, 'Screen name', 'Count')\n"
   ]
  },
  {
   "cell_type": "markdown",
   "metadata": {},
   "source": [
    "Plot a histogram of the number of user mentions in the list using the following bins."
   ]
  },
  {
   "cell_type": "code",
   "execution_count": 436,
   "metadata": {},
   "outputs": [
    {
     "data": {
      "image/png": "[encoded data removed]",
      "text/plain": [
       "<matplotlib.figure.Figure at 0x115fc7e90>"
      ]
     },
     "metadata": {},
     "output_type": "display_data"
    }
   ],
   "source": [
    "import matplotlib.pyplot as plt\n",
    "#%matplotlib inline\n",
    "\n",
    "bins=[0, 10, 20, 30, 40, 50, 100]\n",
    "\n",
    "# Your code starts here\n",
    "#   Please add comments or text cells in between to explain the general idea of each block of the code.\n",
    "#   Please feel free to add more cells below this cell if necessary\n",
    "\n",
    "def count2(list_input):\n",
    "    for item in [list_input]:\n",
    "        c = Counter(item)\n",
    "    return c\n",
    "\n",
    "plt.hist(count2(screen_names_collections).values(), bins = bins)\n",
    "\n",
    "# Add a title and y-label ...\n",
    "plt.title(\"User mentions\")\n",
    "plt.ylabel(\"Number of screen_names in bin\")\n",
    "plt.xlabel(\"Bins (number of times an screen_name appeared)\")\n",
    "\n",
    "plt.show()\n"
   ]
  },
  {
   "cell_type": "markdown",
   "metadata": {},
   "source": [
    "\n",
    " ** (4) Getting \"All\" friends and \"All\" followers of a popular user in the tweets**"
   ]
  },
  {
   "cell_type": "markdown",
   "metadata": {},
   "source": [
    "* choose a popular twitter user who has many followers in your collection of tweets.\n",
    "* Get the list of all friends and all followers of the twitter user.\n",
    "* Plot 20 out of the followers, plot their ID numbers and screen names in a table.\n",
    "* Plot 20 out of the friends (if the user has more than 20 friends), plot their ID numbers and screen names in a table."
   ]
  },
  {
   "cell_type": "code",
   "execution_count": 418,
   "metadata": {},
   "outputs": [],
   "source": [
    "# Your code starts here\n",
    "#   Please add comments or text cells in between to explain the general idea of each block of the code.\n",
    "#   Please feel free to add more cells below this cell if necessary\n",
    "\n",
    "# Get the most popular user screen_name\n",
    "most_popular_user = top_ten_screen_names[0][0]\n",
    "friends_ids, followers_ids = get_friends_followers_ids(twitter_api, screen_name = most_popular_user, friends_limit = 100, followers_limit = 100)\n",
    "\n",
    "friends_profiles = get_user_profile(twitter_api, user_ids=friends_ids)\n",
    "# select first 20 friends from the friends_profiles\n",
    "friends = [(friends_profiles.keys()[i], friends_profiles.values()[i]['screen_name'])\n",
    "                  for i in range(20)] # change 20 if not enough friends\n",
    "# use follower ids to retrieve the follower screen names\n",
    "followers_profiles = get_user_profile(twitter_api, user_ids=followers_ids)\n",
    "# select the first 20 followers from the followers_profiles\n",
    "followers = [(followers_profiles.keys()[i], followers_profiles.values()[i]['screen_name'])\n",
    "                  for i in range(20)]"
   ]
  },
  {
   "cell_type": "code",
   "execution_count": 419,
   "metadata": {},
   "outputs": [
    {
     "name": "stdout",
     "output_type": "stream",
     "text": [
      "Table for friends\n",
      "+--------------------+-----------------+\n",
      "| ID numbers         |   Screen names  |\n",
      "+--------------------+-----------------+\n",
      "| 857910454961700864 |  IUPUIUndergrad |\n",
      "| 847540553415786497 |  IUCrimsonCard  |\n",
      "| 813779053979336706 | bumblebeedrone1 |\n",
      "| 350595075          |    LCHSBears    |\n",
      "| 817893886026719236 |  keelllytaylor  |\n",
      "| 704779912805220352 |    IUPUIOTEAM   |\n",
      "| 707675871935668225 |     IUPUICRL    |\n",
      "| 748898151050928130 |  FireworksINDY  |\n",
      "| 426944019          |   IndianaRoof   |\n",
      "| 3187077147         |   LColantonio2  |\n",
      "| 789652803060768768 | littleworldofap |\n",
      "| 294839340          |  LaurenStewart9 |\n",
      "| 350500909          |   chuck_carney  |\n",
      "| 289350733          |   PublicGreens  |\n",
      "| 425419311          |     amyameir    |\n",
      "| 2377799221         |      bmqiu      |\n",
      "| 324978761          |   ErinButler3   |\n",
      "| 180884045          |      Colts      |\n",
      "| 1058881614         | christina_sekaz |\n",
      "| 1928364624         |  king_nickelrod |\n",
      "+--------------------+-----------------+\n",
      "\n",
      "Table for followers\n",
      "+--------------------+-----------------+\n",
      "| ID numbers         |   Screen names  |\n",
      "+--------------------+-----------------+\n",
      "| 961314860221874176 |   Hjbchnkbf771  |\n",
      "| 961306757204271104 |   margarooses   |\n",
      "| 961073439162470402 | coreyrandolph28 |\n",
      "| 960163273168465923 | Ismaelr73625053 |\n",
      "| 959584592029147140 | Amaniel92934612 |\n",
      "| 960667936854827013 | Courtne25278304 |\n",
      "| 959899548314255360 | Notsure93379417 |\n",
      "| 738261221430812673 |    MattWorld0   |\n",
      "| 842118394723852297 | AshleyWickman27 |\n",
      "| 991846914          |   andrea_trigg  |\n",
      "| 960126957693423616 | OlawuwoOlayimi1 |\n",
      "| 809565608744484867 |    LDeniHdez    |\n",
      "| 959519010080657412 |  AlmightyMack1  |\n",
      "| 2959092768         |     OGehres     |\n",
      "| 706527005441916929 |   jaysemerson   |\n",
      "| 959993925002969089 |    JN76456958   |\n",
      "| 3325042736         |     _Verus_     |\n",
      "| 3616679476         |  EthanMull1_0_1 |\n",
      "| 359671868          |    billyr2967   |\n",
      "| 830216295878623234 |  Shawn_Magerski |\n",
      "+--------------------+-----------------+\n"
     ]
    }
   ],
   "source": [
    "# plot the result \n",
    "print \"Table for friends\"\n",
    "pt = PrettyTable(field_names=['ID numbers', 'Screen names'])\n",
    "[ pt.add_row(friend) for friend in friends]\n",
    "pt.align['ID numbers'], pt.align['Count'] = 'l', 'r' # Set column alignment\n",
    "print pt\n",
    "\n",
    "print\n",
    "\n",
    "print \"Table for followers\"\n",
    "pt = PrettyTable(field_names=['ID numbers', 'Screen names'])\n",
    "[ pt.add_row(follower) for follower in followers]\n",
    "pt.align['ID numbers'], pt.align['Count'] = 'l', 'r' # Set column alignment\n",
    "print pt"
   ]
  },
  {
   "cell_type": "markdown",
   "metadata": {},
   "source": [
    "# The Solution: implement a data science solution to the problem you are trying to solve."
   ]
  },
  {
   "cell_type": "markdown",
   "metadata": {},
   "source": [
    "Briefly describe the idea of your solution to the problem in the following cell:"
   ]
  },
  {
   "cell_type": "markdown",
   "metadata": {
    "collapsed": true
   },
   "source": [
    "# The approach is simply described as following steps:\n",
    "* 1) Crawl tweets associated with superbowl events from twitter at a constant time interval.\n",
    "* 2) Analyze the downloaded data to figure out belonging company of the commercial, retweet counts, favorite counts,\n",
    "   and the number of friends/followers associated with the user of the tweets.\n",
    "* 3) Format the collected data into json objects and stored locally.\n",
    "* 4) Use mapreduce to process data, calculating the popularity of each brand/company's commercial.\n",
    "* 5) Visualize the final result.\n",
    "\n",
    "\n",
    "\n",
    "\n",
    "\n",
    "\n"
   ]
  },
  {
   "cell_type": "markdown",
   "metadata": {},
   "source": [
    "Write codes to implement the solution in python:"
   ]
  },
  {
   "cell_type": "code",
   "execution_count": 262,
   "metadata": {
    "collapsed": true
   },
   "outputs": [],
   "source": [
    "# Your code starts here\n",
    "#   Please add comments or text cells in between to explain the general idea of each block of the code.\n",
    "#   Please feel free to add more cells below this cell if necessary\n",
    "\n",
    "\n",
    "# Load company names from the companies_seed json file\n",
    "companies = []\n",
    "with open('companies.txt') as f:\n",
    "    line = f.readline()\n",
    "    while line:\n",
    "        name = line.strip()\n",
    "        if name not in companies:\n",
    "            companies.append(name)\n",
    "        line = f.readline()\n"
   ]
  },
  {
   "cell_type": "code",
   "execution_count": 278,
   "metadata": {
    "collapsed": true
   },
   "outputs": [
    {
     "data": {
      "text/plain": [
       "['84 Lumber',\n",
       " 'Airbnb',\n",
       " 'American Petroleum Institute',\n",
       " 'Anheuser-Busch InBev',\n",
       " 'Audi',\n",
       " 'Avocados From Mexico',\n",
       " 'Bai Brands',\n",
       " 'Buick',\n",
       " 'Coca-Cola',\n",
       " 'Pepsi',\n",
       " 'Fiat Chrysler',\n",
       " 'Fiji Water',\n",
       " 'Ford',\n",
       " 'GNC',\n",
       " 'GoDaddy',\n",
       " 'Google',\n",
       " 'Honda',\n",
       " 'H&R Block',\n",
       " 'Hulu',\n",
       " 'Intel',\n",
       " \"It's A 10 Haircare\",\n",
       " 'KFC',\n",
       " 'Kia',\n",
       " \"King's Hawaiian\",\n",
       " 'Lexus',\n",
       " 'Mercedes-Benz',\n",
       " 'Michelin',\n",
       " 'Mobile Strike',\n",
       " 'Mr. Clean',\n",
       " 'Netflix',\n",
       " 'National Football League',\n",
       " 'Nintendo',\n",
       " 'Paramount',\n",
       " 'Persil ProClean',\n",
       " 'Proactiv',\n",
       " 'Skittles',\n",
       " 'Snickers',\n",
       " 'SoFi',\n",
       " 'Sony',\n",
       " 'Sprint',\n",
       " 'Squarespace',\n",
       " 'Tide',\n",
       " 'T-Mobile',\n",
       " 'Top Games USA',\n",
       " 'TurboTax',\n",
       " 'Turkish Airlines',\n",
       " 'WeatherTech',\n",
       " \"Wendy's\",\n",
       " 'Wix.com',\n",
       " 'Wonderful Pistachios',\n",
       " 'World of Tanks',\n",
       " 'Toyota',\n",
       " 'Quicken Loans',\n",
       " 'Intuit',\n",
       " 'E*Trade',\n",
       " 'Bud Light',\n",
       " 'Amazon',\n",
       " 'Michelob Ultra',\n",
       " 'Mountain Dew and Doritos',\n",
       " 'Monster',\n",
       " 'Kraft',\n",
       " 'Hyundai',\n",
       " 'Budweiser',\n",
       " 'Groupon',\n",
       " 'Pringles',\n",
       " 'Febreze',\n",
       " 'Clorox',\n",
       " \"M&M's\",\n",
       " 'Verizon',\n",
       " 'YouTube',\n",
       " 'Stella Artois',\n",
       " 'Universal',\n",
       " '#AirMyGlobalWarmingAd']"
      ]
     },
     "execution_count": 278,
     "metadata": {},
     "output_type": "execute_result"
    }
   ],
   "source": [
    "companies"
   ]
  },
  {
   "cell_type": "code",
   "execution_count": 331,
   "metadata": {
    "collapsed": true
   },
   "outputs": [
    {
     "name": "stdout",
     "output_type": "stream",
     "text": [
      "Finished last round: 1\n",
      "Finished last round: 2\n",
      "Finished last round: 3\n"
     ]
    },
    {
     "ename": "KeyboardInterrupt",
     "evalue": "",
     "output_type": "error",
     "traceback": [
      "\u001b[0;31m---------------------------------------------------------------------------\u001b[0m",
      "\u001b[0;31mKeyboardInterrupt\u001b[0m                         Traceback (most recent call last)",
      "\u001b[0;32m<ipython-input-331-971e43a619de>\u001b[0m in \u001b[0;36m<module>\u001b[0;34m()\u001b[0m\n\u001b[1;32m     38\u001b[0m \u001b[0;34m\u001b[0m\u001b[0m\n\u001b[1;32m     39\u001b[0m     \u001b[0;32mprint\u001b[0m\u001b[0;34m(\u001b[0m\u001b[0;34m\"Finished last round: \"\u001b[0m \u001b[0;34m+\u001b[0m \u001b[0mstr\u001b[0m\u001b[0;34m(\u001b[0m\u001b[0mcount\u001b[0m\u001b[0;34m)\u001b[0m\u001b[0;34m)\u001b[0m\u001b[0;34m\u001b[0m\u001b[0m\n\u001b[0;32m---> 40\u001b[0;31m     \u001b[0mtime\u001b[0m\u001b[0;34m.\u001b[0m\u001b[0msleep\u001b[0m\u001b[0;34m(\u001b[0m\u001b[0;36m60\u001b[0m \u001b[0;34m*\u001b[0m \u001b[0;36m20\u001b[0m\u001b[0;34m)\u001b[0m\u001b[0;34m\u001b[0m\u001b[0m\n\u001b[0m\u001b[1;32m     41\u001b[0m     \u001b[0mcount\u001b[0m \u001b[0;34m=\u001b[0m \u001b[0mcount\u001b[0m \u001b[0;34m+\u001b[0m \u001b[0;36m1\u001b[0m\u001b[0;34m\u001b[0m\u001b[0m\n",
      "\u001b[0;31mKeyboardInterrupt\u001b[0m: "
     ]
    }
   ],
   "source": [
    "import time\n",
    "\n",
    "\n",
    "# For each company:\n",
    "# A previous tweets collection is stored locally with a file 'company_name.json'\n",
    "# To update the collection, firstly load a previous collection into a list,\n",
    "# Using new data from twitts, checking first if the tweets exists, if not then append it to previous results\n",
    "count = 1\n",
    "hashtag_list = ['Superbowl', 'Superbowl commercial', 'Super Bowl Ads', 'Superbowl Ads', 'SuperBowl2018']\n",
    "#companies = companies[:1]\n",
    "def update_tweets(companies, result):\n",
    "    tweets = []\n",
    "    for text, retweet_num, fav_num, user_name, followers, friends \\\n",
    "    in zip(result['status_texts'], result['retweet_count'], \n",
    "           result['favorite_count'], result['screen_names'], \n",
    "           result['followers_count'], result['friends_count']):\n",
    "        for company in companies:\n",
    "            if company.lower() in text.lower():\n",
    "                tw = {}\n",
    "                tw['company'] = company\n",
    "                tw['text'] = text\n",
    "                tw['retweet_count'] = retweet_num\n",
    "                tw['favorite_count'] = fav_num\n",
    "                tw['influence'] = friends + followers\n",
    "                tweets.append(tw)\n",
    "    return tweets\n",
    "\n",
    "while (count < 20):\n",
    "    query_final_list = []\n",
    "    for q in hashtag_list:\n",
    "        query_result = make_twitter_request(twitter_api.search.tweets, q = 'Superbowl commercial', count = 1000)\n",
    "        query_final_list = query_final_list + query_result ['statuses']    \n",
    "    result = parseResult(query_final_list)\n",
    "    \n",
    "    curr_tweets = update_tweets(companies, result)\n",
    "    \n",
    "    for item in curr_tweets:\n",
    "        save_json('Tweets_collections', item)\n",
    "        \n",
    "    print(\"Finished last round: \" + str(count))\n",
    "    time.sleep(60 * 20)\n",
    "    count = count + 1"
   ]
  },
  {
   "cell_type": "code",
   "execution_count": 391,
   "metadata": {
    "collapsed": true
   },
   "outputs": [
    {
     "name": "stdout",
     "output_type": "stream",
     "text": [
      "Done with 0\n",
      "Done with 1\n",
      "Done with 2\n",
      "Done with 3\n",
      "Done with 4\n",
      "Done with 5\n",
      "Done with 6\n",
      "Done with 7\n",
      "Done with 8\n",
      "Done with 9\n",
      "Done with 10\n",
      "Done with 11\n",
      "Done with 12\n",
      "Done with 13\n",
      "Done with 14\n",
      "Done with 15\n",
      "Done with 16\n",
      "Done with 17\n",
      "Done with 18\n",
      "Done with 19\n",
      "Done with 20\n",
      "Done with 21\n",
      "Done with 22\n",
      "Done with 23\n",
      "Done with 24\n",
      "Done with 25\n",
      "Done with 26\n",
      "Done with 27\n",
      "Done with 28\n",
      "Done with 29\n",
      "Done with 30\n",
      "Done with 31\n",
      "Done with 32\n",
      "Done with 33\n",
      "Done with 34\n",
      "Done with 35\n",
      "Done with 36\n",
      "Done with 37\n",
      "Done with 38\n",
      "Done with 39\n",
      "Done with 40\n",
      "Done with 41\n",
      "Done with 42\n",
      "Done with 43\n",
      "Done with 44\n",
      "Done with 45\n",
      "Done with 46\n",
      "Done with 47\n",
      "Done with 48\n",
      "Done with 49\n",
      "Done with 50\n",
      "Done with 51\n",
      "Done with 52\n",
      "Done with 53\n",
      "Done with 54\n",
      "Done with 55\n",
      "Done with 56\n",
      "Done with 57\n",
      "Done with 58\n",
      "Done with 59\n",
      "Done with 60\n",
      "Done with 61\n",
      "Done with 62\n",
      "Done with 63\n",
      "Done with 64\n",
      "Done with 65\n",
      "Done with 66\n",
      "Done with 67\n",
      "Done with 68\n",
      "Done with 69\n",
      "Done with 70\n",
      "Done with 71\n",
      "Done with 72\n",
      "Done with 73\n",
      "Done with 74\n",
      "Done with 75\n",
      "Done with 76\n",
      "Done with 77\n",
      "Done with 78\n",
      "Done with 79\n",
      "Done with 80\n",
      "Done with 81\n",
      "Done with 82\n",
      "Done with 83\n"
     ]
    }
   ],
   "source": [
    "x = 0\n",
    "while (x < 84):\n",
    "    file1 = 'SuperbowlAds' + str(x) + '.txt'\n",
    "    file2 = 'Superbowlad' + str(x) + '.txt'\n",
    "    file3 = 'Superbowladd' + str(x) + '.txt'\n",
    "    with open('data/' + file1, 'r') as infile:\n",
    "        content_1 = parseResult(json.loads(infile.read()))\n",
    "\n",
    "    with open('data/' + file2, 'r') as infile:\n",
    "        content_2 = parseResult(json.loads(infile.read()))\n",
    "\n",
    "    with open('data/' + file3, 'r') as infile:\n",
    "        content_3 = parseResult(json.loads(infile.read()))\n",
    "    print ('Done with ' + str(x))\n",
    "    x += 1\n",
    "    \n",
    "tweets_new_version = []\n",
    "tweets_new_version += update_tweets(companies, content_1)\n",
    "tweets_new_version += update_tweets(companies, content_2)\n",
    "tweets_new_version += update_tweets(companies, content_3)\n",
    "for item in tweets_new_version:\n",
    "        save_json('Tweets_collections_version2', item)\n",
    "    "
   ]
  },
  {
   "cell_type": "code",
   "execution_count": 362,
   "metadata": {},
   "outputs": [
    {
     "name": "stdout",
     "output_type": "stream",
     "text": [
      "Overwriting tweet_popularity.py\n"
     ]
    }
   ],
   "source": [
    "%%file tweet_popularity.py\n",
    "from mrjob.job import MRJob\n",
    "import json\n",
    "\n",
    "\n",
    "class TweetPopularity(MRJob):\n",
    "    def mapper(self, in_key, in_value):\n",
    "        tw = json.loads(in_value)\n",
    "        out_key = str(tw['company'])\n",
    "        out_value = int(tw['retweet_count'] * tw['influence'] + tw['favorite_count'])\n",
    "        yield (out_key, out_value)\n",
    "        \n",
    "    def reducer(self, in_key, in_value):\n",
    "        out_key = in_key\n",
    "        out_value = sum(in_value)\n",
    "        yield (out_key, out_value)\n",
    "    \n",
    "# if __name__ == '__main__':\n",
    "#     TweetPopularity.run()\n",
    "        \n",
    "\n"
   ]
  },
  {
   "cell_type": "code",
   "execution_count": 363,
   "metadata": {
    "collapsed": true
   },
   "outputs": [],
   "source": [
    "import tweet_popularity\n",
    "reload(tweet_popularity)\n",
    "\n",
    "\n",
    "data = open('Tweets_collections.json','r')\n",
    "stdin = data.read()\n",
    "\n",
    "# create a map reduce job (in a sandbox)\n",
    "job = tweet_popularity.TweetPopularity(args=['Tweets_collections copy.json'])\n",
    "job.sandbox(stdin=stdin)\n",
    "\n",
    "# create a job runner\n",
    "runner = job.make_runner()\n",
    "\n",
    "# run the mapreduce job \n",
    "runner.run()\n",
    "\n",
    "# parse the outputs\n",
    "tweet_analysis_results = []\n",
    "for line in runner.stream_output():\n",
    "    # Use the job's specified protocol to read an output key-value pair\n",
    "    key, value = job.parse_output_line(line)\n",
    "    # append the value into a list \n",
    "    tweet_analysis_results.append([key,value])"
   ]
  },
  {
   "cell_type": "code",
   "execution_count": 406,
   "metadata": {},
   "outputs": [
    {
     "data": {
      "text/plain": [
       "[[u'Monster', 139857113],\n",
       " [u'Amazon', 64417243],\n",
       " [u'Ford', 59353953],\n",
       " [u'Lexus', 51783523],\n",
       " [u'Universal', 48481534],\n",
       " [u'T-Mobile', 31840209],\n",
       " [u'YouTube', 21228900],\n",
       " [u'Tide', 20968894],\n",
       " [u'TurboTax', 17201340],\n",
       " [u'Budweiser', 9179095],\n",
       " [u'Pepsi', 2479891],\n",
       " [u'Toyota', 2356729],\n",
       " [u'Verizon', 2304420],\n",
       " [u'Michelob Ultra', 1376445],\n",
       " [u'Intuit', 806665],\n",
       " [u'Coca-Cola', 579640],\n",
       " [u'Squarespace', 526078],\n",
       " [u'Kia', 473147],\n",
       " [u'Hyundai', 409130],\n",
       " [u'Fiat Chrysler', 336162],\n",
       " [u'Pringles', 300632],\n",
       " [u'Audi', 156275],\n",
       " [u'Hulu', 134860],\n",
       " [u'Kraft', 91535],\n",
       " [u'WeatherTech', 61490],\n",
       " [u'Groupon', 47883],\n",
       " [u'Netflix', 47470],\n",
       " [u'Skittles', 33500],\n",
       " [u'Avocados From Mexico', 24405],\n",
       " [u'Febreze', 22560],\n",
       " [u'Nintendo', 14340],\n",
       " [u'Quicken Loans', 10760],\n",
       " [u'Sony', 15],\n",
       " [u'Mountain Dew and Doritos', 0],\n",
       " [u'Sprint', 0],\n",
       " [u'Stella Artois', 0],\n",
       " [u'Google', 0],\n",
       " [u'KFC', 0],\n",
       " [u'Bud Light', 0]]"
      ]
     },
     "execution_count": 406,
     "metadata": {},
     "output_type": "execute_result"
    }
   ],
   "source": [
    "tweet_analysis_results = sorted(tweet_analysis_results, key = lambda x: -x[1])\n",
    "tweet_analysis_results"
   ]
  },
  {
   "cell_type": "code",
   "execution_count": 311,
   "metadata": {
    "collapsed": true
   },
   "outputs": [
    {
     "name": "stdout",
     "output_type": "stream",
     "text": [
      "{u'text': u'RT @UniStudios: #SuperBowl Commercial Premiere: Peyton Manning\\u2026Vacation Quarterback #ReadyForUniversal #SBLII https://t.co/8oglrCWANe', u'company': u'Universal', u'retweet_count': 142, u'influence': 2081, u'favorite_count': 0}\n",
      "('Universal', 295502)\n"
     ]
    }
   ],
   "source": [
    "with open('Tweets_collections.json', 'r') as f2:\n",
    "    tw = json.loads(f2.readline())\n",
    "    print(tw)\n",
    "    out_key = str(tw['company'])\n",
    "    out_value = int(tw['retweet_count'] * tw['influence'] + tw['favorite_count'])\n",
    "    print(out_key, out_value)"
   ]
  },
  {
   "cell_type": "markdown",
   "metadata": {},
   "source": [
    "# Results: summarize and visualize the results discovered from the analysis\n",
    "\n",
    "Please use figures, tables, or videos to communicate the results with the audience.\n"
   ]
  },
  {
   "cell_type": "code",
   "execution_count": 410,
   "metadata": {},
   "outputs": [
    {
     "data": {
      "text/plain": [
       "<matplotlib.axes._subplots.AxesSubplot at 0x117a72d90>"
      ]
     },
     "execution_count": 410,
     "metadata": {},
     "output_type": "execute_result"
    },
    {
     "data": {
      "text/plain": [
       "<matplotlib.figure.Figure at 0x113573b90>"
      ]
     },
     "metadata": {},
     "output_type": "display_data"
    },
    {
     "data": {
      "image/png": "[encoded data removed]",
      "text/plain": [
       "<matplotlib.figure.Figure at 0x117a726d0>"
      ]
     },
     "metadata": {},
     "output_type": "display_data"
    }
   ],
   "source": [
    "# Your code starts here\n",
    "#   Please add comments or text cells in between to explain the general idea of each block of the code.\n",
    "#   Please feel free to add more cells below this cell if necessary\n",
    "import pandas\n",
    "\n",
    "result_dict = {}\n",
    "for rs in tweet_analysis_results:\n",
    "    result_dict[str(rs[0])] = int(rs[1])\n",
    "    \n",
    "plt.figure(figsize = (50, 50))\n",
    "df = pandas.DataFrame.from_dict(result_dict, orient='index',)\n",
    "df.columns = ['Popularity']\n",
    "df.sort_values(by='Popularity',ascending=False).plot(kind='bar',figsize = (20, 10))"
   ]
  },
  {
   "cell_type": "code",
   "execution_count": 373,
   "metadata": {},
   "outputs": [
    {
     "data": {
      "text/plain": [
       "{'Amazon': 64417243,\n",
       " 'Audi': 156275,\n",
       " 'Avocados From Mexico': 24405,\n",
       " 'Bud Light': 0,\n",
       " 'Budweiser': 9179095,\n",
       " 'Coca-Cola': 579640,\n",
       " 'Febreze': 22560,\n",
       " 'Fiat Chrysler': 336162,\n",
       " 'Ford': 59353953,\n",
       " 'Google': 0,\n",
       " 'Groupon': 47883,\n",
       " 'Hulu': 134860,\n",
       " 'Hyundai': 409130,\n",
       " 'Intuit': 806665,\n",
       " 'KFC': 0,\n",
       " 'Kia': 473147,\n",
       " 'Kraft': 91535,\n",
       " 'Lexus': 51783523,\n",
       " 'Michelob Ultra': 1376445,\n",
       " 'Monster': 139857113,\n",
       " 'Mountain Dew and Doritos': 0,\n",
       " 'Netflix': 47470,\n",
       " 'Nintendo': 14340,\n",
       " 'Pepsi': 2479891,\n",
       " 'Pringles': 300632,\n",
       " 'Quicken Loans': 10760,\n",
       " 'Skittles': 33500,\n",
       " 'Sony': 15,\n",
       " 'Sprint': 0,\n",
       " 'Squarespace': 526078,\n",
       " 'Stella Artois': 0,\n",
       " 'T-Mobile': 31840209,\n",
       " 'Tide': 20968894,\n",
       " 'Toyota': 2356729,\n",
       " 'TurboTax': 17201340,\n",
       " 'Universal': 48481534,\n",
       " 'Verizon': 2304420,\n",
       " 'WeatherTech': 61490,\n",
       " 'YouTube': 21228900}"
      ]
     },
     "execution_count": 373,
     "metadata": {},
     "output_type": "execute_result"
    }
   ],
   "source": [
    "result_dict"
   ]
  },
  {
   "cell_type": "markdown",
   "metadata": {},
   "source": [
    "*-----------------\n",
    "# Done\n",
    "\n",
    "All set! \n",
    "\n",
    "** What do you need to submit?**\n",
    "\n",
    "* **Notebook File**: Save this Jupyter notebook, and find the notebook file in your folder (for example, \"filename.ipynb\"). This is the file you need to submit. Please make sure all the plotted tables and figures are in the notebook. If you used \"jupyter notebook --pylab=inline\" to open the notebook, all the figures and tables should have shown up in the notebook.\n",
    "\n",
    "* **PPT Slides**: please prepare PPT slides (for 10 minutes' talk) to present about the case study . Each team present their case studies in class for 10 minutes.\n",
    "\n",
    "Please compress all the files in a zipped file.\n",
    "\n",
    "\n",
    "** How to submit: **\n",
    "\n",
    "        Please submit through Canvas, in the Assignment \"Case Study 1\".\n",
    "        \n",
    "** Note: Each team only needs to submit one submission in Canvas **"
   ]
  },
  {
   "cell_type": "markdown",
   "metadata": {},
   "source": [
    "\n",
    "# Peer-Review Grading Template:\n",
    "\n",
    "** Total Points: (100 points) ** Please don't worry about the absolute scores, we will rescale the final grading according to the performance of all teams in the class.\n",
    "\n",
    "Please add an \"**X**\" mark in front of your rating: \n",
    "\n",
    "For example:\n",
    "\n",
    "*2: bad*\n",
    "          \n",
    "**X** *3: good*\n",
    "    \n",
    "*4: perfect*\n",
    "\n",
    "\n",
    "    ---------------------------------\n",
    "    The Problem: \n",
    "    ---------------------------------\n",
    "    \n",
    "    1. (5 points) how well did the team describe the problem they are trying to solve using twitter data? \n",
    "       0: not clear\n",
    "       1: I can barely understand the problem\n",
    "       2: okay, can be improved\n",
    "       3: good, but can be improved\n",
    "       4: very good\n",
    "       5: crystal clear\n",
    "    \n",
    "    2. (10 points) do you think the problem is important or has a potential impact?\n",
    "        0: not important at all\n",
    "        2: not sure if it is important\n",
    "        4: seems important, but not clear\n",
    "        6: interesting problem\n",
    "        8: an important problem, which I want to know the answer myself\n",
    "       10: very important, I would be happy invest money on a project like this.\n",
    "    \n",
    "    ----------------------------------\n",
    "    Data Collection:\n",
    "    ----------------------------------\n",
    "    \n",
    "    3. (10 points) Do you think the data collected are relevant and sufficient for solving the above problem? \n",
    "       0: not clear\n",
    "       2: I can barely understand what data they are trying to collect\n",
    "       4: I can barely understand why the data is relevant to the problem\n",
    "       6: the data are relevant to the problem, but better data can be collected\n",
    "       8: the data collected are relevant and at a proper scale (> 300 tweets)\n",
    "      10: the data are properly collected and they are sufficient\n",
    "\n",
    "    -----------------------------------\n",
    "    Data Exploration:\n",
    "    -----------------------------------\n",
    "    4. How well did the team solve the following task:\n",
    "    (1) Word Count (5 points):\n",
    "       0: missing answer\n",
    "       1: okay, but with major problems\n",
    "       3: good, but with minor problems\n",
    "       5: perfect\n",
    "    \n",
    "    (2) Find the most popular tweets in your collection of tweets: (5 points)\n",
    "       0: missing answer\n",
    "       1: okay, but with major problems\n",
    "       3: good, but with minor problems\n",
    "       5: perfect\n",
    "    \n",
    "    (3) Find popular twitter entities  (5 points)\n",
    "       0: missing answer\n",
    "       1: okay, but with major problems\n",
    "       3: good, but with minor problems\n",
    "       5: perfect\n",
    "\n",
    "    (4) Find user's followers and friends (5 points)\n",
    "       0: missing answer\n",
    "       1: okay, but with major problems\n",
    "       3: good, but with minor problems\n",
    "       5: perfect\n",
    "\n",
    "    -----------------------------------\n",
    "    The Solution\n",
    "    -----------------------------------\n",
    "    5.  how well did the team describe the solution they used to solve the problem? \n",
    "       0: not clear\n",
    "       2: I can barely understand\n",
    "       4: okay, can be improved\n",
    "       6: good, but can be improved\n",
    "       8: very good\n",
    "       10: crystal clear\n",
    "       \n",
    "    6. how well is the solution in solving the problem? \n",
    "       0: not relevant\n",
    "       1: barely relevant to the problem\n",
    "       2: okay solution, but there is an easier solution.\n",
    "       3: good, but can be improved\n",
    "       4: very good, but solution is simple/old\n",
    "       5: innovative and technically sound\n",
    "       \n",
    "    7. how well did the team implement the solution in python? \n",
    "       0: the code is not relevant to the solution proposed\n",
    "       2: the code is barely understandable, but not relevant\n",
    "       4: okay, the code is clear but incorrect\n",
    "       6: good, the code is correct, but with major errors\n",
    "       8: very good, the code is correct, but with minor errors\n",
    "      10: perfect \n",
    "   \n",
    "    -----------------------------------\n",
    "    The Results\n",
    "    -----------------------------------\n",
    "     8.  How well did the team present the results they found in the data? \n",
    "       0: not clear\n",
    "       2: I can barely understand\n",
    "       4: okay, can be improved\n",
    "       6: good, but can be improved\n",
    "       8: very good\n",
    "      10: crystal clear\n",
    "       \n",
    "     9.  How do you think the results they found in the data? \n",
    "       0: not clear\n",
    "       1: likely to be wrong\n",
    "       2: okay, maybe wrong\n",
    "       3: good, but can be improved\n",
    "       4: make sense, but not interesting\n",
    "       5: make sense and very interesting\n",
    "     \n",
    "    -----------------------------------\n",
    "    The Presentation\n",
    "    -----------------------------------\n",
    "    10. How all the different parts (data, problem, solution, result) fit together as a coherent story?  \n",
    "       0: they are irrelevant\n",
    "       1: I can barely understand how they are related to each other\n",
    "       2: okay, the problem is good, but the solution doesn't match well, or the problem is not solvable.\n",
    "       3: good, but the results don't make much sense in the context\n",
    "       4: very good fit, but not exciting (the storyline can be improved/polished)\n",
    "       5: a perfect story\n",
    "      \n",
    "    11. Did the presenter make good use of the 10 minutes for presentation?  \n",
    "       0: the team didn't present\n",
    "       1: bad, barely finished a small part of the talk\n",
    "       2: okay, barely finished most parts of the talk.\n",
    "       3: good, finished all parts of the talk, but some part is rushed\n",
    "       4: very good, but the allocation of time on different parts can be improved.\n",
    "       5: perfect timing and good use of time      \n",
    "\n",
    "    12. How well do you think of the presentation (overall quality)?  \n",
    "       0: the team didn't present\n",
    "       1: bad\n",
    "       2: okay\n",
    "       3: good\n",
    "       4: very good\n",
    "       5: perfect\n",
    "\n",
    "\n",
    "    -----------------------------------\n",
    "    Overall: \n",
    "    -----------------------------------\n",
    "    13. How many points out of the 100 do you give to this project in total?  Please don't worry about the absolute scores, we will rescale the final grading according to the performance of all teams in the class.\n",
    "    Total score:\n",
    "    \n",
    "    14. What are the strengths of this project? Briefly, list up to 3 strengths.\n",
    "       1: \n",
    "       2:\n",
    "       3:\n",
    "    \n",
    "    15. What are the weaknesses of this project? Briefly, list up to 3 weaknesses.\n",
    "       1:\n",
    "       2:\n",
    "       3:\n",
    "    \n",
    "    16. Detailed comments and suggestions. What suggestions do you have for this project to improve its quality further.\n",
    "    \n",
    "    \n",
    "    \n",
    "\n",
    "    ---------------------------------\n",
    "    Your Vote: \n",
    "    ---------------------------------\n",
    "    1. [Overall Quality] Between the two submissions that you are reviewing, which team would you vote for a better score?  \n",
    "       -1: I vote the other team is better than this team\n",
    "        0: the same\n",
    "        1: I vote this team is better than the other team \n",
    "        \n",
    "    2. [Presentation] Among all the teams in the presentation, which team do you think deserves the best presentation award for this case study?  \n",
    "        1: Team 1\n",
    "        2: Team 2\n",
    "        3: Team 3\n",
    "        4: Team 4\n",
    "        5: Team 5\n",
    "        6: Team 6\n",
    "        7: Team 7\n",
    "        8: Team 8\n",
    "        9: Team 9\n",
    "       10: Team 10\n",
    "\n"
   ]
  },
  {
   "cell_type": "code",
   "execution_count": null,
   "metadata": {
    "collapsed": true
   },
   "outputs": [],
   "source": []
  }
 ],
 "metadata": {
  "kernelspec": {
   "display_name": "Python 2",
   "language": "python",
   "name": "python2"
  },
  "language_info": {
   "codemirror_mode": {
    "name": "ipython",
    "version": 2
   },
   "file_extension": ".py",
   "mimetype": "text/x-python",
   "name": "python",
   "nbconvert_exporter": "python",
   "pygments_lexer": "ipython2",
   "version": "2.7.13"
  }
 },
 "nbformat": 4,
 "nbformat_minor": 1
}
